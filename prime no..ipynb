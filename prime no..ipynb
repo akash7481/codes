{
 "cells": [
  {
   "cell_type": "code",
   "execution_count": 9,
   "id": "8efd8a9d",
   "metadata": {},
   "outputs": [
    {
     "name": "stdout",
     "output_type": "stream",
     "text": [
      "enter a no. = 13\n",
      "13 it is a prime no.\n"
     ]
    }
   ],
   "source": [
    "a = int(input(\"enter a no. = \"))\n",
    "for i in range (2,a):\n",
    "    if(a%i)==0:\n",
    "        print(a,\"is not a prime no. \")\n",
    "        break\n",
    "    else:\n",
    "        print(a,\"it is a prime no.\")\n",
    "        break"
   ]
  },
  {
   "cell_type": "code",
   "execution_count": null,
   "id": "9135c183",
   "metadata": {},
   "outputs": [],
   "source": []
  },
  {
   "cell_type": "code",
   "execution_count": null,
   "id": "29ccdbe4",
   "metadata": {},
   "outputs": [],
   "source": []
  }
 ],
 "metadata": {
  "kernelspec": {
   "display_name": "Python 3",
   "language": "python",
   "name": "python3"
  },
  "language_info": {
   "codemirror_mode": {
    "name": "ipython",
    "version": 3
   },
   "file_extension": ".py",
   "mimetype": "text/x-python",
   "name": "python",
   "nbconvert_exporter": "python",
   "pygments_lexer": "ipython3",
   "version": "3.8.11"
  }
 },
 "nbformat": 4,
 "nbformat_minor": 5
}
