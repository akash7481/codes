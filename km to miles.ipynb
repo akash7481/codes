{
 "cells": [
  {
   "cell_type": "code",
   "execution_count": 4,
   "id": "f5236048",
   "metadata": {},
   "outputs": [
    {
     "name": "stdout",
     "output_type": "stream",
     "text": [
      "enter the kilometers19\n",
      "miles 11.808576755748913\n"
     ]
    }
   ],
   "source": [
    "km = int(input(\"enter the kilometers\"))\n",
    "miles = km/1.609\n",
    "print('miles', miles)"
   ]
  },
  {
   "cell_type": "code",
   "execution_count": null,
   "id": "ccea3783",
   "metadata": {},
   "outputs": [],
   "source": []
  }
 ],
 "metadata": {
  "kernelspec": {
   "display_name": "Python 3",
   "language": "python",
   "name": "python3"
  },
  "language_info": {
   "codemirror_mode": {
    "name": "ipython",
    "version": 3
   },
   "file_extension": ".py",
   "mimetype": "text/x-python",
   "name": "python",
   "nbconvert_exporter": "python",
   "pygments_lexer": "ipython3",
   "version": "3.8.11"
  }
 },
 "nbformat": 4,
 "nbformat_minor": 5
}
