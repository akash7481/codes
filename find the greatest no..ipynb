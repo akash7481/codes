{
 "cells": [
  {
   "cell_type": "code",
   "execution_count": 9,
   "id": "1781fc44",
   "metadata": {},
   "outputs": [
    {
     "name": "stdout",
     "output_type": "stream",
     "text": [
      "enter the value of a = 89\n",
      "enter the value of b = 94\n",
      "enter the value of c = 2\n",
      "b is greater\n"
     ]
    }
   ],
   "source": [
    "a = int(input(\"enter the value of a = \"))\n",
    "b = int(input(\"enter the value of b = \"))\n",
    "c = int(input(\"enter the value of c = \"))\n",
    "if a>b and a>c:\n",
    "    print(\"a is greater\")\n",
    "if b>a and b>c:\n",
    "        print(\"b is greater\")\n",
    "if c>a and c>b:\n",
    "            print(\"c is greater\")\n"
   ]
  },
  {
   "cell_type": "code",
   "execution_count": null,
   "id": "5524ef90",
   "metadata": {},
   "outputs": [],
   "source": []
  },
  {
   "cell_type": "code",
   "execution_count": null,
   "id": "acd7a382",
   "metadata": {},
   "outputs": [],
   "source": []
  }
 ],
 "metadata": {
  "kernelspec": {
   "display_name": "Python 3",
   "language": "python",
   "name": "python3"
  },
  "language_info": {
   "codemirror_mode": {
    "name": "ipython",
    "version": 3
   },
   "file_extension": ".py",
   "mimetype": "text/x-python",
   "name": "python",
   "nbconvert_exporter": "python",
   "pygments_lexer": "ipython3",
   "version": "3.8.11"
  }
 },
 "nbformat": 4,
 "nbformat_minor": 5
}
