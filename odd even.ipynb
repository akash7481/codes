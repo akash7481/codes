{
 "cells": [
  {
   "cell_type": "code",
   "execution_count": 11,
   "id": "13bd5149",
   "metadata": {},
   "outputs": [
    {
     "name": "stdout",
     "output_type": "stream",
     "text": [
      "enter a no.4\n",
      "no. is even\n"
     ]
    }
   ],
   "source": [
    "n = int (input(\"enter a no.\"))\n",
    "if n%2==0 :\n",
    "    print(\"no. is even\")\n",
    "else :\n",
    "        print(\"no. is odd\")"
   ]
  },
  {
   "cell_type": "code",
   "execution_count": null,
   "id": "7ed11da6",
   "metadata": {},
   "outputs": [],
   "source": []
  }
 ],
 "metadata": {
  "kernelspec": {
   "display_name": "Python 3",
   "language": "python",
   "name": "python3"
  },
  "language_info": {
   "codemirror_mode": {
    "name": "ipython",
    "version": 3
   },
   "file_extension": ".py",
   "mimetype": "text/x-python",
   "name": "python",
   "nbconvert_exporter": "python",
   "pygments_lexer": "ipython3",
   "version": "3.8.11"
  }
 },
 "nbformat": 4,
 "nbformat_minor": 5
}
